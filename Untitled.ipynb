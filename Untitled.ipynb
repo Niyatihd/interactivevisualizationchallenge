{
 "cells": [
  {
   "cell_type": "code",
   "execution_count": 2,
   "metadata": {
    "collapsed": true
   },
   "outputs": [],
   "source": [
    "from flask import Flask, render_template, jsonify\n",
    "from sqlalchemy.ext.automap import automap_base\n",
    "from sqlalchemy.orm import Session\n",
    "from sqlalchemy import create_engine\n",
    "import pandas as pd"
   ]
  },
  {
   "cell_type": "code",
   "execution_count": 3,
   "metadata": {},
   "outputs": [],
   "source": [
    "engine = create_engine(\"sqlite:///belly_button_biodiversity.sqlite\")\n",
    "#engine = create_engine('sqlite:///belly_button_biodiversity.sqlite', connect_args={'check_same_thread': False}, echo=False)\n",
    "\n",
    "# Declare a Base using `automap_base()`\n",
    "Base = automap_base()\n",
    "# Use the Base class to reflect the database tables\n",
    "Base.prepare(engine, reflect=True)\n",
    "# Assign the samples class to a variable called `Samples`\n",
    "Samples = Base.classes\n",
    "# Create a session\n",
    "session = Session(engine)\n",
    "#session = scoped_session(sessionmaker(bind=engine))\n",
    "# Create connection\n",
    "conn = engine.connect()\n",
    "\n",
    "first_row = session.query(Samples.samples).first()\n",
    "\n",
    "data_samples = pd.read_sql(\"SELECT * FROM samples\", conn)"
   ]
  },
  {
   "cell_type": "code",
   "execution_count": 15,
   "metadata": {},
   "outputs": [
    {
     "ename": "NameError",
     "evalue": "name 'db' is not defined",
     "output_type": "error",
     "traceback": [
      "\u001b[0;31m---------------------------------------------------------------------------\u001b[0m",
      "\u001b[0;31mNameError\u001b[0m                                 Traceback (most recent call last)",
      "\u001b[0;32m<ipython-input-15-06c12f4df2eb>\u001b[0m in \u001b[0;36m<module>\u001b[0;34m()\u001b[0m\n\u001b[0;32m----> 1\u001b[0;31m \u001b[0mresults\u001b[0m \u001b[0;34m=\u001b[0m \u001b[0mdb\u001b[0m\u001b[0;34m.\u001b[0m\u001b[0msession\u001b[0m\u001b[0;34m.\u001b[0m\u001b[0mquery\u001b[0m\u001b[0;34m(\u001b[0m\u001b[0mEmoji\u001b[0m\u001b[0;34m.\u001b[0m\u001b[0motu_id\u001b[0m\u001b[0;34m,\u001b[0m \u001b[0mEmoji\u001b[0m\u001b[0;34m.\u001b[0m\u001b[0mBB_940\u001b[0m\u001b[0;34m)\u001b[0m\u001b[0;34m.\u001b[0m        \u001b[0morder_by\u001b[0m\u001b[0;34m(\u001b[0m\u001b[0mEmoji\u001b[0m\u001b[0;34m.\u001b[0m\u001b[0mBB_940\u001b[0m\u001b[0;34m.\u001b[0m\u001b[0mdesc\u001b[0m\u001b[0;34m(\u001b[0m\u001b[0;34m)\u001b[0m\u001b[0;34m)\u001b[0m\u001b[0;34m.\u001b[0m        \u001b[0mlimit\u001b[0m\u001b[0;34m(\u001b[0m\u001b[0;36m10\u001b[0m\u001b[0;34m)\u001b[0m\u001b[0;34m.\u001b[0m\u001b[0mall\u001b[0m\u001b[0;34m(\u001b[0m\u001b[0;34m)\u001b[0m\u001b[0;34m\u001b[0m\u001b[0m\n\u001b[0m\u001b[1;32m      2\u001b[0m \u001b[0mdf\u001b[0m \u001b[0;34m=\u001b[0m \u001b[0mpd\u001b[0m\u001b[0;34m.\u001b[0m\u001b[0mDataFrame\u001b[0m\u001b[0;34m(\u001b[0m\u001b[0mresults\u001b[0m\u001b[0;34m,\u001b[0m \u001b[0mcolumns\u001b[0m\u001b[0;34m=\u001b[0m\u001b[0;34m[\u001b[0m\u001b[0;34m'name'\u001b[0m\u001b[0;34m,\u001b[0m \u001b[0;34m'score'\u001b[0m\u001b[0;34m]\u001b[0m\u001b[0;34m)\u001b[0m\u001b[0;34m\u001b[0m\u001b[0m\n",
      "\u001b[0;31mNameError\u001b[0m: name 'db' is not defined"
     ]
    }
   ],
   "source": [
    "results = db.session.query(Emoji.otu_id, Emoji.BB_940).\\\n",
    "        order_by(Emoji.BB_940.desc()).\\\n",
    "        limit(10).all()\n",
    "df = pd.DataFrame(results, columns=['name', 'score'])"
   ]
  },
  {
   "cell_type": "code",
   "execution_count": 10,
   "metadata": {
    "collapsed": true
   },
   "outputs": [],
   "source": [
    "default_data = []\n",
    "for c in data_samples.columns[1:]:\n",
    "    sample_values = []\n",
    "    otu_id = []\n",
    "\n",
    "    for x in range(len(data_samples[c])):\n",
    "        if data_samples[c][x] != 0:     \n",
    "            sample_values.append(data_samples[c][x])\n",
    "            otu_id.append(data_samples['otu_id'][x])\n",
    "    temp_df = pd.DataFrame({'sample_values': sample_values, 'otu_id': otu_id}, \n",
    "                           columns=['sample_values', 'otu_id'])\n",
    "    temp_df = temp_df.sort_values('sample_values', ascending=False).reset_index(drop=True)\n",
    "    temp_df['otu_id'] = temp_df['otu_id'].astype(str)\n",
    "    s_list = list(temp_df.sample_values)\n",
    "    o_list = list(temp_df.otu_id)\n",
    "\n",
    "default_data = [{\n",
    "\"labels\": o_list[0:3],\n",
    "\"values\": s_list[0:3],\n",
    "\"type\": \"pie\"}]"
   ]
  },
  {
   "cell_type": "code",
   "execution_count": 11,
   "metadata": {
    "collapsed": true
   },
   "outputs": [],
   "source": [
    "z = pd.DataFrame(default_data[0])"
   ]
  },
  {
   "cell_type": "code",
   "execution_count": 12,
   "metadata": {},
   "outputs": [
    {
     "data": {
      "text/html": [
       "<div>\n",
       "<style>\n",
       "    .dataframe thead tr:only-child th {\n",
       "        text-align: right;\n",
       "    }\n",
       "\n",
       "    .dataframe thead th {\n",
       "        text-align: left;\n",
       "    }\n",
       "\n",
       "    .dataframe tbody tr th {\n",
       "        vertical-align: top;\n",
       "    }\n",
       "</style>\n",
       "<table border=\"1\" class=\"dataframe\">\n",
       "  <thead>\n",
       "    <tr style=\"text-align: right;\">\n",
       "      <th></th>\n",
       "      <th>labels</th>\n",
       "      <th>type</th>\n",
       "      <th>values</th>\n",
       "    </tr>\n",
       "  </thead>\n",
       "  <tbody>\n",
       "    <tr>\n",
       "      <th>0</th>\n",
       "      <td>1929</td>\n",
       "      <td>pie</td>\n",
       "      <td>166</td>\n",
       "    </tr>\n",
       "    <tr>\n",
       "      <th>1</th>\n",
       "      <td>3030</td>\n",
       "      <td>pie</td>\n",
       "      <td>129</td>\n",
       "    </tr>\n",
       "    <tr>\n",
       "      <th>2</th>\n",
       "      <td>1795</td>\n",
       "      <td>pie</td>\n",
       "      <td>97</td>\n",
       "    </tr>\n",
       "  </tbody>\n",
       "</table>\n",
       "</div>"
      ],
      "text/plain": [
       "  labels type  values\n",
       "0   1929  pie     166\n",
       "1   3030  pie     129\n",
       "2   1795  pie      97"
      ]
     },
     "execution_count": 12,
     "metadata": {},
     "output_type": "execute_result"
    }
   ],
   "source": [
    "z"
   ]
  },
  {
   "cell_type": "code",
   "execution_count": 13,
   "metadata": {},
   "outputs": [
    {
     "data": {
      "text/plain": [
       "labels    object\n",
       "type      object\n",
       "values     int64\n",
       "dtype: object"
      ]
     },
     "execution_count": 13,
     "metadata": {},
     "output_type": "execute_result"
    }
   ],
   "source": [
    "z.dtypes\n"
   ]
  },
  {
   "cell_type": "code",
   "execution_count": 8,
   "metadata": {
    "collapsed": true
   },
   "outputs": [],
   "source": [
    "z['labels'] = z['labels'].astype(str)"
   ]
  },
  {
   "cell_type": "code",
   "execution_count": 9,
   "metadata": {},
   "outputs": [
    {
     "data": {
      "text/plain": [
       "labels    object\n",
       "type      object\n",
       "values     int64\n",
       "dtype: object"
      ]
     },
     "execution_count": 9,
     "metadata": {},
     "output_type": "execute_result"
    }
   ],
   "source": [
    "z.dtypes"
   ]
  },
  {
   "cell_type": "code",
   "execution_count": null,
   "metadata": {
    "collapsed": true
   },
   "outputs": [],
   "source": []
  }
 ],
 "metadata": {
  "kernelspec": {
   "display_name": "pythondata_3",
   "language": "python",
   "name": "pythondata_3"
  },
  "language_info": {
   "codemirror_mode": {
    "name": "ipython",
    "version": 3
   },
   "file_extension": ".py",
   "mimetype": "text/x-python",
   "name": "python",
   "nbconvert_exporter": "python",
   "pygments_lexer": "ipython3",
   "version": "3.6.3"
  }
 },
 "nbformat": 4,
 "nbformat_minor": 2
}
